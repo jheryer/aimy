{
 "cells": [
  {
   "cell_type": "code",
   "execution_count": 1,
   "metadata": {},
   "outputs": [],
   "source": [
    "!pip -q install langchain openai tiktoken chromadb pypdf unstructured markdown pydantic"
   ]
  },
  {
   "cell_type": "code",
   "execution_count": 2,
   "metadata": {},
   "outputs": [
    {
     "data": {
      "text/plain": [
       "True"
      ]
     },
     "execution_count": 2,
     "metadata": {},
     "output_type": "execute_result"
    }
   ],
   "source": [
    "from langchain.vectorstores import Chroma\n",
    "from langchain.embeddings import OpenAIEmbeddings\n",
    "from langchain.text_splitter import RecursiveCharacterTextSplitter\n",
    "from langchain.llms import OpenAI\n",
    "from langchain.chains import RetrievalQA\n",
    "from langchain.document_loaders import TextLoader\n",
    "from langchain.document_loaders import PyPDFLoader\n",
    "from langchain import PromptTemplate\n",
    "from langchain.document_loaders import DirectoryLoader\n",
    "from dotenv import load_dotenv\n",
    "import os\n",
    "from lib.files import load_text_documents_from_directory, load_pdf_documents_from_directory, remove_non_ascii, consolidate_whitespace, load_markdown_documents_from_directory\n",
    "from lib.lc import process_llm_response\n",
    "load_dotenv()"
   ]
  },
  {
   "cell_type": "markdown",
   "metadata": {},
   "source": [
    "### Read directory of files"
   ]
  },
  {
   "cell_type": "code",
   "execution_count": 3,
   "metadata": {},
   "outputs": [
    {
     "name": "stdout",
     "output_type": "stream",
     "text": [
      "Quilting instructions for Bee Kind Pillow\n",
      "\n",
      "Contact information\n",
      "\n",
      "Designed by: Amy Bradley Designs \n",
      "Visit: www.amybradleydesigns.com\n",
      "\n",
      "Contact: 785-218-6803 or info@amybradleydesigns.com\n",
      "\n",
      "Description\n",
      "\n",
      "This guide provides step-by-step instructions for creating a Bee Kind pillow measuring 14 x 14 inches. It includes a comprehensive list of materials and tools needed, as well as a pre-prepared pattern and placement sheet.\n",
      "\n",
      "Material List\n",
      "\n",
      "13\"x13\" or Fat Quarter or 3/8 yd Background\n",
      "\n",
      "1/8 yd. or Fat Eighth Inside Border\n",
      "\n",
      "1/2 yd.  Outside Border & Pillow Back\n",
      "\n",
      "1 yd. Piping\n",
      "\n",
      "4\" x 6\"  Letter K\n",
      "\n",
      "2\" x 4\"  Letter I\n",
      "\n",
      "4\" x 4\"  Letter N\n",
      "\n",
      "4\" x 6\"  Letter D\n",
      "\n",
      "4\" x 5\"  Body\n",
      "\n",
      "3\" x 4\"  Stripes\n",
      "\n",
      "3\" x 4\"  Wings\n",
      "\n",
      "2\" x 2\"  Heart\n",
      "\n",
      "2\" x 3\"  Eyes\n",
      "\n",
      "2\" x 2\" Cheeks\n",
      "\n",
      "2\" x 3\"  Feet\n",
      "\n",
      "White Muslin to back light fabrics\n",
      "\n",
      "1/2 yd. (17 width) HeatnBond  Lite fusible web\n",
      "\n",
      "19 x 19 piece of White Batting (Amy used Warm & White by The Warm Company )\n",
      "\n",
      "Smallest package Sulky  Tear Away Iron On Stabilizer Machine embroidery thread - Amy used Gutermann 100m polyester thread several shades darker than    fabric for letters, black on bee body and stinger, Gutermann 111 grey on wings, eyes, & feet.\n",
      "\n",
      "All purpose thread to match embroidery thread\n",
      "\n",
      "DMC black hand embroidery thread for eye french knots\n",
      "\n",
      "Two 5/16 buttons for tops of antennae\n",
      "\n",
      "1 7/8 yd. 3/8 Cording for Piping\n",
      "\n",
      "14\" x 14\" Pillow Form\n",
      "\n",
      "Tools Needed\n",
      "\n",
      "Mechanical Pencil\n",
      "\n",
      "White pencil for dark fabrics\n",
      "\n",
      "XACTO knife with #1 blade (optiona)\n",
      "\n",
      "light box\n",
      "\n",
      "scissors\n",
      "\n",
      "rotary cutter\n",
      "\n",
      "ruler\n",
      "\n",
      "cutting mat\n",
      "\n",
      "straight pins\n",
      "\n",
      "ironing\n",
      "\n",
      "ironing board\n",
      "\n",
      "sewing machine\n",
      "\n",
      "Instructions\n",
      "\n",
      "Trim white edge from side of page without border and tape pages 11-14 together to assemble the placement sheet. Trim excess paper from the back of the placement sheet.\n",
      "\n",
      "1. Back Light Fabrics with Muslin\n",
      "\n",
      "Light fabrics that will be placed over dark fabric or a strong print need to be backed with muslin. This extra layer of  muslin makes the light fabric thicker so you can t see through the fabric. Amy backed the eye fabric on the sample. Cut a piece from fusible web large enough to fit all the light fabrics that need to be backed with muslin. Iron this  fusible web piece to a larger piece of pressed white muslin. Let cool. Cut a piece from the fused muslin and place on the back side of the light fabric. Use an iron to press according to the  fusible web instructions. The result will be a thicker piece of fabric with the light fabric on one side, the muslin on the  other side and fusible between. Repeat to back all light fabrics with muslin.\n",
      "\n",
      "2. Trace Pieces on Fusible Web\n",
      "\n",
      "Pieces have already been reversed. Use a pencil to trace the pattern pieces and letters onto fusible web leaving 1/4\"  between pieces. Write the number inside the pattern piece for easy identification.\n",
      "\n",
      "Here is an image example for step 2: https://blah.com/step2.png\n",
      "\n",
      "3. Press Fusible Web Pieces to Fabric\n",
      "\n",
      "Do not cut on the pencil line. Cut fusible web around the pattern pieces and letters leaving at least 1 8 from the  outside of the pencil line. Place the fusible web pattern piece or letter on the back of the chosen fabric. Press  according to fusible web instructions. Let cool.\n",
      "Here is an image example for step 3: https://blah.com/step3.png\n",
      "\n",
      "Image:\n",
      "\n",
      "4. Cut Pieces Out on the Pencil Line\n",
      "\n",
      "Use scissors to cut pieces and letters out on the pencil line. An X-ACTO knife with a #11 blade is great for cutting  out the inside of the letter d.\n",
      "Here is an image example for step 4: https://blah.com/step4.png\n",
      "\n",
      "#### How to Cut a Strip:\n",
      "  Fold fabric in half matching the selvages. Trim any excess  off the end so you have a nice straight edge. Measure over  the distance of the strip needed. Our example shows an 18\"  strip. Use a long plastic ruler and a rotary cutter to cut on  the measured line.\n",
      "\n",
      "5. Cut Background, Borders, & Batting\n",
      "\n",
      "Background\n",
      "\n",
      "You need one 12 1/2\" x 12 1/2\" background. Background is oversized to allow for a neat final trim after stitching. If cutting from yardage, cut one 12 1/2\" strip. Trim one 12 1/2\" x 12 1/2\" background from the strip.\n",
      "\n",
      "Inside Border\n",
      "\n",
      "Cut two 1 strips from inside border fabric.\n",
      "\n",
      "Trim four 1 x 11 1/2 pieces from the strips.\n",
      "\n",
      "Outside Border & Pillow Back\n",
      "\n",
      "Cut two 2 3/4\" strips and one 11\" strip from outside border/pillow back fabric.\n",
      "\n",
      "Trim one 2 3/4\" strip into two 16 pieces.\n",
      "\n",
      "Trim the remaining 2 3/4\" strip into two 11 1/2\" pieces.\n",
      "\n",
      "Trim the 11 strip into two 15 pieces for pillow back.\n",
      "\n",
      "Batting\n",
      "\n",
      "From white cotton batting, cut a 19\" x 19\" piece.\n",
      "\n",
      "6. Place Pattern Pieces on Background Fabric\n",
      "\n",
      "On a light box, put the placement sheet right side up. Place the 12 1/2\" x 12 1/2\" background fabric over the placement sheet. There should be fabric outside the trim line on all sides. Remove paper backing from fusible web and place  pattern pieces 1-13 in numerical order on background fabric using placement sheet as a guide. Tack pieces lightly with  an iron as you go. Transport background fabric to ironing board. Press following fusible web instructions. Let cool.\n",
      "\n",
      "7. Mark the Detail Lines\n",
      "\n",
      "On a light box, align background fabric over the placement sheet again. Use a mechanical pencil (white pencil for dark  fabrics) to lightly trace these detail lines onto the fabric. \n",
      " *  Mark small dots for eyes and button centers.\n",
      "\n",
      "Mark antennae, smile, legs, and stinger.\n",
      "\n",
      "Stitching Tips\n",
      "\n",
      "The pillow on the cover was blanket stitched by machine using embroidery thread with matching all purpose thread in the bobbin. Amy used Gutermann 100m polyester thread several shades darker than fabric for letters.  She used black thread on bee body and stinger. She used Gutermann 111 grey thread on wings, eyes, & feet.\n",
      "\n",
      "Reduce the blanket stitch size as needed for smaller pattern pieces. Practice blanket stitching by fusing scrap pieces  of fabric to a piece of muslin. See more stitching tips from Amy on page 15.\n",
      "\n",
      "8. Blanket Stitch Around Pieces\n",
      "\n",
      "Blanket stitch around all fabric edges. Pull any loose threads to the back. Tie in two knots and thread through a few  stitches then trim.\n",
      "\n",
      "9. Add Stabilizer\n",
      "\n",
      "Stabilizer pieces prevent the fabric from gathering when the detail lines are stitched on a single layer of fabric. Place  fabric background upside down on a light table. Cut pieces of stabilizer large enough to cover the areas behind  antennae, legs, and stinger to be stitched. Cover these areas on the back of the fabric with stabilizer. Transport to  ironing board and fuse.\n",
      "\n",
      "10. Stitch Detail Lines\n",
      "\n",
      "Double straight stitch the smile, antennae, and legs detail lines using embroidery thread with matching all purpose  thread in the bobbin. To double straight stitch, stitch over a line, then pivot and stitch back using the same holes. Pull  all loose threads to the back. Tie two knots and thread through a couple of stitches then trim. Use a narrow satin stitch  for the stinger. Use six strands of DMC black embroidery thread to add french knots for eyes. Remove stabilizer  after stitching.\n",
      "\n",
      "11. Trim Background\n",
      "\n",
      "Press stitched background on wrong side of fabric. Place stitched background over placement sheet and mark trim line  of 11 1/2\" x 11 1/2\" on all four corners lightly with a mechanical or white pencil. Place on cutting mat, double check  that measurements are 11 1/2\" x 11 1/2\". Square and trim using a rotary cutter and a ruler.\n",
      "\n",
      "12. Add Inside Border\n",
      "\n",
      "Press the four 1\" x 11 1/2\" inside border pieces in half lengthwise with the right side out. Pin the 11 1 2 pieces to the  sides of the background aligning raw edges (fold toward inside). Sew a 3/16\" seam. Press.\n",
      "\n",
      "Pin the remaining 11 1/2\" pieces to the top and bottom of the background aligning raw edges (fold toward inside). Sew  a 3/16\" seam. Press.\n",
      "\n",
      "13. Add Outside Border\n",
      "\n",
      "Placing right sides together, pin the 2 3/4\" x 11 1/2\" pieces to the sides of the background.  Sew using a 1/4\" seam. Press seams toward darker fabric.\n",
      "\n",
      "Placing right sides together, pin the 2 3/4\" x 16\" pieces to the top and bottom of the background.  Sew using a 1 4 seam. Press seams. The finished size is 16\" x 16\".\n",
      "\n",
      "14. Quilting\n",
      "\n",
      "Trim any seam allowances and clip any threads that may show through the front of the quilt. Press. Mark quilt top  lightly as desired for quilting before layering. Layer the batting and quilt top and pin. Baste all three layers together  and quilt by machine or hand.\n",
      "\n",
      "15. Trim Pillow Top\n",
      "\n",
      "Trim quilted pillow top to 15\" x 15\" . Place on cutting mat, double check the final trim measurements of 15\" x 15\".  Square and trim using a rotary cutter and a square ruler.\n",
      "\n",
      "16. Add Buttons\n",
      "\n",
      "Sew two 5/16\" buttons for the tops of antennae.\n",
      "\n",
      "17. Pillow Back with Piping\n",
      "\n",
      "Cut 2 3/8\" strips on the bias or 45 degree angle of your piping fabric. Sew strips together to get 70\" length. Press seams open. Cut a piece of 3/8\" cording to 70\" length. \n",
      "Wrap 3/8\" cording with bias strips right sides out and placing raw edges together. Pin into place. Baste close to cording  with a zipper foot.\n",
      "\n",
      "Place pillow top right side up. Start in the middle of the bottom of the pillow and leave a 1 1/2\" tail unpinned at the  beginning. Pin piping around outside edge of pillow top matching raw edges. At corners, snip piping seam allowance  a couple of times to wrap piping around corners. Be careful not to snip the basting.\n",
      "\n",
      "Continue pinning around the pillow until you are 1 1/2\" away from where you started.  Again leave a 1 1/2\" tail that overlaps the first tail.\n",
      "\n",
      "Open the piping and cut the two ends of the cording (not the bias fabric) so they meet. Remove some of the basting  stitches. Fold one of the 1 1/2\" tails under 1/2\" on the end and pin. Tuck the other tail inside of this and pin into place.\n",
      "\n",
      "Baste in place close to piping being sure to baste down the little corner snips so they lay flat. Remove pins after  basting.\n",
      "\n",
      "On each 11\" x 15\" pillow back rectangle, fold the 15\" side over 1/4\" to the reverse side and press. Fold it over another  1/4\" and press. Stitch 3/16\" from the edge. Press.\n",
      "\n",
      "Place quilted pillow front with piping pinned on right side up. Place  the two pillow back pieces face down over the pillow top so right sides are together. Pin into place overlapping the  back pieces. Baste close to piping. Remove pins.\n",
      "\n",
      "Stitch around pillow using a 1/2\" seam and a zipper foot. Trim corners close to seams. Turn pillow right side out and  remove any basting stitches that show on the front. Insert a 14\" x 14\" pillow form.\n"
     ]
    },
    {
     "data": {
      "text/plain": [
       "1"
      ]
     },
     "execution_count": 3,
     "metadata": {},
     "output_type": "execute_result"
    }
   ],
   "source": [
    "\n",
    "input_directory = os.getenv(\"INPUT_DIRECTORY\")\n",
    "# documents = load_pdf_documents_from_directory(input_directory)\n",
    "documents = load_markdown_documents_from_directory(input_directory)\n",
    "for document in documents:\n",
    "    # document.page_content = remove_non_ascii(document.page_content)\n",
    "    # document.page_content = consolidate_whitespace(document.page_content)\n",
    "    print(document.page_content)\n",
    "\n",
    "len(documents)\n"
   ]
  },
  {
   "cell_type": "markdown",
   "metadata": {},
   "source": [
    "### Create Text Chunks"
   ]
  },
  {
   "cell_type": "code",
   "execution_count": 4,
   "metadata": {},
   "outputs": [
    {
     "data": {
      "text/plain": [
       "2"
      ]
     },
     "execution_count": 4,
     "metadata": {},
     "output_type": "execute_result"
    }
   ],
   "source": [
    "text_splitter = RecursiveCharacterTextSplitter(chunk_size=10000, chunk_overlap=200)\n",
    "texts = text_splitter.split_documents(documents)\n",
    "len(texts)"
   ]
  },
  {
   "cell_type": "code",
   "execution_count": 5,
   "metadata": {},
   "outputs": [
    {
     "name": "stdout",
     "output_type": "stream",
     "text": [
      "./aimy_db/\n"
     ]
    }
   ],
   "source": [
    "vector_db_path = os.getenv(\"DATA_BASE_DIRECTORY\")\n",
    "embedding = OpenAIEmbeddings()\n",
    "print(vector_db_path)"
   ]
  },
  {
   "cell_type": "markdown",
   "metadata": {},
   "source": [
    "### Create Enbeddings and write Vector DB\n",
    "uncomment this code to rebuild embeddings database"
   ]
  },
  {
   "cell_type": "code",
   "execution_count": 6,
   "metadata": {},
   "outputs": [],
   "source": [
    "\n",
    "vectordb = Chroma.from_documents(documents=texts, \n",
    "                                 embedding=embedding,\n",
    "                                 persist_directory=vector_db_path)\n",
    "vectordb.persist()\n",
    "vectordb = None"
   ]
  },
  {
   "cell_type": "markdown",
   "metadata": {},
   "source": [
    "### Load Cached Embeddings"
   ]
  },
  {
   "cell_type": "code",
   "execution_count": 7,
   "metadata": {},
   "outputs": [],
   "source": [
    "vectordb = Chroma(persist_directory=vector_db_path, \n",
    "                  embedding_function=embedding)"
   ]
  },
  {
   "cell_type": "markdown",
   "metadata": {},
   "source": [
    "### Test Retreival"
   ]
  },
  {
   "cell_type": "code",
   "execution_count": 8,
   "metadata": {},
   "outputs": [
    {
     "data": {
      "text/plain": [
       "2"
      ]
     },
     "execution_count": 8,
     "metadata": {},
     "output_type": "execute_result"
    }
   ],
   "source": [
    "retriever = vectordb.as_retriever(search_kwargs={\"k\": 2})\n",
    "retriever_docs = retriever.get_relevant_documents(\"Should I cut on the pencil line?\")\n",
    "len(retriever_docs)"
   ]
  },
  {
   "cell_type": "markdown",
   "metadata": {},
   "source": [
    "### Create the Chain"
   ]
  },
  {
   "cell_type": "code",
   "execution_count": 20,
   "metadata": {},
   "outputs": [],
   "source": [
    "prompt_template = \"\"\"You are a quilting instructor please read the content below to help the user design a quilt. \n",
    "If you don't know the answer, please think rationally and answer from your own knowledge base.\n",
    "\n",
    "{context}\n",
    "\n",
    "Instruction: Only provide the answers and details from the context given above, and don't use any other information which is not \n",
    "covered in the context. Provide the response in markdown format.\n",
    "Question: {question}\n",
    "\"\"\"\n",
    "PROMPT = PromptTemplate(\n",
    "    template=prompt_template, input_variables=[\"context\", \"question\"]\n",
    ")\n",
    "\n",
    "chain_type_kwargs = {\"prompt\": PROMPT}\n",
    "\n",
    "\n",
    "qa_chain = RetrievalQA.from_chain_type(llm=OpenAI(temperature=0.5, max_tokens=1000), \n",
    "                                  chain_type=\"stuff\", \n",
    "                                  retriever=retriever, \n",
    "                                  return_source_documents=True)"
   ]
  },
  {
   "cell_type": "markdown",
   "metadata": {},
   "source": [
    "## Ask a question and process the response"
   ]
  },
  {
   "cell_type": "code",
   "execution_count": 25,
   "metadata": {},
   "outputs": [
    {
     "name": "stdout",
     "output_type": "stream",
     "text": [
      " Light fabrics that will be placed over dark fabric or a strong print need to be backed with muslin. This is noted in the material list.\n",
      "\n",
      "\n",
      "Sources:\n",
      "text_assets/bee_kind_pillow.md\n",
      "text_assets/bee_kind_pillow.md\n"
     ]
    }
   ],
   "source": [
    "# query = \"What tools do I need to create the bee kind pillow?\"\n",
    "query = \"How do I know what fabrics I need to back with muslin?\"\n",
    "llm_response = qa_chain(query)\n",
    "process_llm_response(llm_response)"
   ]
  },
  {
   "cell_type": "markdown",
   "metadata": {},
   "source": []
  },
  {
   "cell_type": "markdown",
   "metadata": {},
   "source": []
  },
  {
   "cell_type": "markdown",
   "metadata": {},
   "source": []
  },
  {
   "cell_type": "markdown",
   "metadata": {},
   "source": []
  }
 ],
 "metadata": {
  "kernelspec": {
   "display_name": "aimy",
   "language": "python",
   "name": "python3"
  },
  "language_info": {
   "codemirror_mode": {
    "name": "ipython",
    "version": 3
   },
   "file_extension": ".py",
   "mimetype": "text/x-python",
   "name": "python",
   "nbconvert_exporter": "python",
   "pygments_lexer": "ipython3",
   "version": "3.11.5"
  }
 },
 "nbformat": 4,
 "nbformat_minor": 2
}
